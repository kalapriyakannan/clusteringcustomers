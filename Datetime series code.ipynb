{
 "cells": [
  {
   "cell_type": "code",
   "execution_count": 5,
   "metadata": {},
   "outputs": [],
   "source": [
    "import pandas as pd\n",
    "from datetime import datetime"
   ]
  },
  {
   "cell_type": "code",
   "execution_count": 6,
   "metadata": {},
   "outputs": [],
   "source": [
    "def date_parse(string):\n",
    "    date1 = \"%Y-%m-%d\"\n",
    "    date2 = \"%Y-%b-%d\"\n",
    "    date3 = \"%Y/%m/%d\"\n",
    "    date4 = \"%d-%m-%Y\"\n",
    "    date5 = \"%d-%b-%Y\"\n",
    "    date6 = \"%d/%m/%Y\"\n",
    "    date7 = \"%m-%d-%Y\"\n",
    "    date8 = \"%b-%d-%Y\"\n",
    "    date9 = \"%m/%d/%Y\"\n",
    "    time = \" %H:%M:%S\"\n",
    "    utc = \" UTC\"\n",
    "    fmt_list = [date1, date2, date3, date4, date5, date6, date7, date8, date9, date1+time, date2+time, date3+time, date4+time, \n",
    "                date5+time, date6+time, date7+time, date8+time, date9+time, date1+time+utc, date2+time+utc, date3+time+utc, \n",
    "                date4+time+utc, date5+time+utc, date6+time+utc, date7+time+utc, date8+time+utc, date9+time+utc]\n",
    "    for fmt in fmt_list:\n",
    "        try:\n",
    "            return datetime.strptime(string, fmt).date()\n",
    "        except ValueError:\n",
    "            continue\n",
    "    raise ValueError(string)"
   ]
  },
  {
   "cell_type": "code",
   "execution_count": 7,
   "metadata": {},
   "outputs": [],
   "source": [
    "def func(file_name, col_list, date_time_col, seperator):\n",
    "    df = pd.read_csv(file_name, sep=seperator, usecols=col_list, index_col=date_time_col, parse_dates=[date_time_col], date_parser=date_parse )\n",
    "    df.sort_index(inplace=True)\n",
    "    return df"
   ]
  },
  {
   "cell_type": "code",
   "execution_count": 8,
   "metadata": {},
   "outputs": [],
   "source": []
  },
  {
   "cell_type": "code",
   "execution_count": null,
   "metadata": {},
   "outputs": [],
   "source": []
  }
 ],
 "metadata": {
  "kernelspec": {
   "display_name": "Python 3",
   "language": "python",
   "name": "python3"
  },
  "language_info": {
   "codemirror_mode": {
    "name": "ipython",
    "version": 3
   },
   "file_extension": ".py",
   "mimetype": "text/x-python",
   "name": "python",
   "nbconvert_exporter": "python",
   "pygments_lexer": "ipython3",
   "version": "3.7.6"
  }
 },
 "nbformat": 4,
 "nbformat_minor": 4
}
